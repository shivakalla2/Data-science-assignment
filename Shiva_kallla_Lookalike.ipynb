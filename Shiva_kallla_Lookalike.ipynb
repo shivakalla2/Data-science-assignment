{
 "cells": [
  {
   "cell_type": "code",
   "execution_count": 4,
   "id": "28400411-19b7-4837-8640-cadb13a1b675",
   "metadata": {},
   "outputs": [
    {
     "name": "stdout",
     "output_type": "stream",
     "text": [
      "  CustomerID                                         Lookalikes\n",
      "0      C0001  [('C0194', 0.4049275311893231), ('C0104', 0.37...\n",
      "1      C0002  [('C0030', 0.40461685378594076), ('C0091', 0.3...\n",
      "2      C0003  [('C0181', 0.4775717980039305), ('C0134', 0.47...\n",
      "3      C0004  [('C0070', 0.3519014889798192), ('C0175', 0.31...\n",
      "4      C0005  [('C0096', 0.48745613929263704), ('C0023', 0.4...\n"
     ]
    }
   ],
   "source": [
    "import pandas as pd\n",
    "from sklearn.metrics.pairwise import cosine_similarity\n",
    "from sklearn.preprocessing import StandardScaler\n",
    "\n",
    "# Load datasets\n",
    "customers = pd.read_csv(\"Customers.csv\")\n",
    "products = pd.read_csv(\"Products.csv\")\n",
    "transactions = pd.read_csv(\"Transactions.csv\")\n",
    "\n",
    "# Preprocess and merge data\n",
    "customers['SignupDate'] = pd.to_datetime(customers['SignupDate'])\n",
    "transactions['TransactionDate'] = pd.to_datetime(transactions['TransactionDate'])\n",
    "\n",
    "merged_data = pd.merge(transactions, customers, on=\"CustomerID\", how=\"inner\")\n",
    "merged_data = pd.merge(merged_data, products, on=\"ProductID\", how=\"inner\")\n",
    "\n",
    "# Create a pivot table for customer-product interactions\n",
    "customer_product_matrix = merged_data.pivot_table(\n",
    "    index='CustomerID', \n",
    "    columns='ProductID', \n",
    "    values='Quantity', \n",
    "    aggfunc='sum', \n",
    "    fill_value=0\n",
    ")\n",
    "\n",
    "# Normalize the data for cosine similarity\n",
    "scaler = StandardScaler()\n",
    "customer_product_normalized = scaler.fit_transform(customer_product_matrix)\n",
    "\n",
    "# Compute cosine similarity between customers\n",
    "similarity_matrix = cosine_similarity(customer_product_normalized)\n",
    "similarity_df = pd.DataFrame(\n",
    "    similarity_matrix, \n",
    "    index=customer_product_matrix.index, \n",
    "    columns=customer_product_matrix.index\n",
    ")\n",
    "\n",
    "# Generate lookalike recommendations\n",
    "def get_top_n_similar_customers(customer_id, n=3):\n",
    "    similar_customers = similarity_df[customer_id].sort_values(ascending=False)[1:n+1]\n",
    "    return [(cust_id, score) for cust_id, score in similar_customers.items()]\n",
    "\n",
    "# Generate lookalikes for first 20 customers (C0001 - C0020)\n",
    "lookalike_results = {}\n",
    "for customer_id in customers['CustomerID'][:20]:\n",
    "    lookalike_results[customer_id] = get_top_n_similar_customers(customer_id)\n",
    "\n",
    "# Save the results to a CSV file\n",
    "lookalike_df = pd.DataFrame({\n",
    "    'CustomerID': lookalike_results.keys(),\n",
    "    'Lookalikes': [str(v) for v in lookalike_results.values()]\n",
    "})\n",
    "lookalike_df.to_csv(\"Lookalike.csv\", index=False)\n",
    "\n",
    "# Display sample output\n",
    "print(lookalike_df.head())"
   ]
  }
 ],
 "metadata": {
  "kernelspec": {
   "display_name": "Python 3 (ipykernel)",
   "language": "python",
   "name": "python3"
  },
  "language_info": {
   "codemirror_mode": {
    "name": "ipython",
    "version": 3
   },
   "file_extension": ".py",
   "mimetype": "text/x-python",
   "name": "python",
   "nbconvert_exporter": "python",
   "pygments_lexer": "ipython3",
   "version": "3.10.11"
  }
 },
 "nbformat": 4,
 "nbformat_minor": 5
}
